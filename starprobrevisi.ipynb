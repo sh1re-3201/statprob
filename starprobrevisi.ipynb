{
 "cells": [
  {
   "cell_type": "code",
   "execution_count": 1,
   "id": "42140281",
   "metadata": {
    "_cell_guid": "b1076dfc-b9ad-4769-8c92-a6c4dae69d19",
    "_uuid": "8f2839f25d086af736a60e9eeb907d3b93b6e0e5",
    "execution": {
     "iopub.execute_input": "2024-03-20T13:40:07.211581Z",
     "iopub.status.busy": "2024-03-20T13:40:07.210626Z",
     "iopub.status.idle": "2024-03-20T13:40:10.170687Z",
     "shell.execute_reply": "2024-03-20T13:40:10.169187Z"
    },
    "papermill": {
     "duration": 2.971873,
     "end_time": "2024-03-20T13:40:10.173515",
     "exception": false,
     "start_time": "2024-03-20T13:40:07.201642",
     "status": "completed"
    },
    "tags": []
   },
   "outputs": [],
   "source": [
    "import pandas as pd\n",
    "import numpy as np\n",
    "import matplotlib.pylab as plt\n",
    "import seaborn as sns"
   ]
  },
  {
   "cell_type": "code",
   "execution_count": 2,
   "id": "f36caf29",
   "metadata": {
    "execution": {
     "iopub.execute_input": "2024-03-20T13:40:10.188298Z",
     "iopub.status.busy": "2024-03-20T13:40:10.187805Z",
     "iopub.status.idle": "2024-03-20T13:40:10.224226Z",
     "shell.execute_reply": "2024-03-20T13:40:10.223114Z"
    },
    "papermill": {
     "duration": 0.046589,
     "end_time": "2024-03-20T13:40:10.227092",
     "exception": false,
     "start_time": "2024-03-20T13:40:10.180503",
     "status": "completed"
    },
    "tags": []
   },
   "outputs": [],
   "source": [
    "df = pd.read_csv('../input/top-football-leagues-scorers/Data.csv')"
   ]
  },
  {
   "cell_type": "code",
   "execution_count": 3,
   "id": "d6e7fd6c",
   "metadata": {
    "execution": {
     "iopub.execute_input": "2024-03-20T13:40:10.241115Z",
     "iopub.status.busy": "2024-03-20T13:40:10.240719Z",
     "iopub.status.idle": "2024-03-20T13:40:10.249445Z",
     "shell.execute_reply": "2024-03-20T13:40:10.248350Z"
    },
    "papermill": {
     "duration": 0.018679,
     "end_time": "2024-03-20T13:40:10.251986",
     "exception": false,
     "start_time": "2024-03-20T13:40:10.233307",
     "status": "completed"
    },
    "tags": []
   },
   "outputs": [
    {
     "data": {
      "text/plain": [
       "(660, 15)"
      ]
     },
     "execution_count": 3,
     "metadata": {},
     "output_type": "execute_result"
    }
   ],
   "source": [
    "#Ngasih tau bentuk dari data frame kita\n",
    "df.shape"
   ]
  },
  {
   "cell_type": "code",
   "execution_count": 4,
   "id": "1839bf13",
   "metadata": {
    "execution": {
     "iopub.execute_input": "2024-03-20T13:40:10.267551Z",
     "iopub.status.busy": "2024-03-20T13:40:10.267171Z",
     "iopub.status.idle": "2024-03-20T13:40:10.297116Z",
     "shell.execute_reply": "2024-03-20T13:40:10.295756Z"
    },
    "papermill": {
     "duration": 0.041019,
     "end_time": "2024-03-20T13:40:10.299849",
     "exception": false,
     "start_time": "2024-03-20T13:40:10.258830",
     "status": "completed"
    },
    "tags": []
   },
   "outputs": [
    {
     "data": {
      "text/html": [
       "<div>\n",
       "<style scoped>\n",
       "    .dataframe tbody tr th:only-of-type {\n",
       "        vertical-align: middle;\n",
       "    }\n",
       "\n",
       "    .dataframe tbody tr th {\n",
       "        vertical-align: top;\n",
       "    }\n",
       "\n",
       "    .dataframe thead th {\n",
       "        text-align: right;\n",
       "    }\n",
       "</style>\n",
       "<table border=\"1\" class=\"dataframe\">\n",
       "  <thead>\n",
       "    <tr style=\"text-align: right;\">\n",
       "      <th></th>\n",
       "      <th>Country</th>\n",
       "      <th>League</th>\n",
       "      <th>Club</th>\n",
       "      <th>Player Names</th>\n",
       "      <th>Matches_Played</th>\n",
       "      <th>Substitution</th>\n",
       "      <th>Mins</th>\n",
       "      <th>Goals</th>\n",
       "      <th>xG</th>\n",
       "      <th>xG Per Avg Match</th>\n",
       "      <th>Shots</th>\n",
       "      <th>OnTarget</th>\n",
       "      <th>Shots Per Avg Match</th>\n",
       "      <th>On Target Per Avg Match</th>\n",
       "      <th>Year</th>\n",
       "    </tr>\n",
       "  </thead>\n",
       "  <tbody>\n",
       "    <tr>\n",
       "      <th>0</th>\n",
       "      <td>Spain</td>\n",
       "      <td>La Liga</td>\n",
       "      <td>(BET)</td>\n",
       "      <td>Juanmi Callejon</td>\n",
       "      <td>19</td>\n",
       "      <td>16</td>\n",
       "      <td>1849</td>\n",
       "      <td>11</td>\n",
       "      <td>6.62</td>\n",
       "      <td>0.34</td>\n",
       "      <td>48</td>\n",
       "      <td>20</td>\n",
       "      <td>2.47</td>\n",
       "      <td>1.03</td>\n",
       "      <td>2016</td>\n",
       "    </tr>\n",
       "    <tr>\n",
       "      <th>1</th>\n",
       "      <td>Spain</td>\n",
       "      <td>La Liga</td>\n",
       "      <td>(BAR)</td>\n",
       "      <td>Antoine Griezmann</td>\n",
       "      <td>36</td>\n",
       "      <td>0</td>\n",
       "      <td>3129</td>\n",
       "      <td>16</td>\n",
       "      <td>11.86</td>\n",
       "      <td>0.36</td>\n",
       "      <td>88</td>\n",
       "      <td>41</td>\n",
       "      <td>2.67</td>\n",
       "      <td>1.24</td>\n",
       "      <td>2016</td>\n",
       "    </tr>\n",
       "    <tr>\n",
       "      <th>2</th>\n",
       "      <td>Spain</td>\n",
       "      <td>La Liga</td>\n",
       "      <td>(ATL)</td>\n",
       "      <td>Luis Suarez</td>\n",
       "      <td>34</td>\n",
       "      <td>1</td>\n",
       "      <td>2940</td>\n",
       "      <td>28</td>\n",
       "      <td>23.21</td>\n",
       "      <td>0.75</td>\n",
       "      <td>120</td>\n",
       "      <td>57</td>\n",
       "      <td>3.88</td>\n",
       "      <td>1.84</td>\n",
       "      <td>2016</td>\n",
       "    </tr>\n",
       "    <tr>\n",
       "      <th>3</th>\n",
       "      <td>Spain</td>\n",
       "      <td>La Liga</td>\n",
       "      <td>(CAR)</td>\n",
       "      <td>Ruben Castro</td>\n",
       "      <td>32</td>\n",
       "      <td>3</td>\n",
       "      <td>2842</td>\n",
       "      <td>13</td>\n",
       "      <td>14.06</td>\n",
       "      <td>0.47</td>\n",
       "      <td>117</td>\n",
       "      <td>42</td>\n",
       "      <td>3.91</td>\n",
       "      <td>1.40</td>\n",
       "      <td>2016</td>\n",
       "    </tr>\n",
       "    <tr>\n",
       "      <th>4</th>\n",
       "      <td>Spain</td>\n",
       "      <td>La Liga</td>\n",
       "      <td>(VAL)</td>\n",
       "      <td>Kevin Gameiro</td>\n",
       "      <td>21</td>\n",
       "      <td>10</td>\n",
       "      <td>1745</td>\n",
       "      <td>13</td>\n",
       "      <td>10.65</td>\n",
       "      <td>0.58</td>\n",
       "      <td>50</td>\n",
       "      <td>23</td>\n",
       "      <td>2.72</td>\n",
       "      <td>1.25</td>\n",
       "      <td>2016</td>\n",
       "    </tr>\n",
       "  </tbody>\n",
       "</table>\n",
       "</div>"
      ],
      "text/plain": [
       "  Country   League   Club       Player Names  Matches_Played  Substitution   \\\n",
       "0   Spain  La Liga  (BET)    Juanmi Callejon              19             16   \n",
       "1   Spain  La Liga  (BAR)  Antoine Griezmann              36              0   \n",
       "2   Spain  La Liga  (ATL)        Luis Suarez              34              1   \n",
       "3   Spain  La Liga  (CAR)       Ruben Castro              32              3   \n",
       "4   Spain  La Liga  (VAL)      Kevin Gameiro              21             10   \n",
       "\n",
       "   Mins  Goals     xG  xG Per Avg Match  Shots  OnTarget  Shots Per Avg Match  \\\n",
       "0  1849     11   6.62              0.34     48        20                 2.47   \n",
       "1  3129     16  11.86              0.36     88        41                 2.67   \n",
       "2  2940     28  23.21              0.75    120        57                 3.88   \n",
       "3  2842     13  14.06              0.47    117        42                 3.91   \n",
       "4  1745     13  10.65              0.58     50        23                 2.72   \n",
       "\n",
       "   On Target Per Avg Match  Year  \n",
       "0                     1.03  2016  \n",
       "1                     1.24  2016  \n",
       "2                     1.84  2016  \n",
       "3                     1.40  2016  \n",
       "4                     1.25  2016  "
      ]
     },
     "execution_count": 4,
     "metadata": {},
     "output_type": "execute_result"
    }
   ],
   "source": [
    "df.head(5)"
   ]
  },
  {
   "cell_type": "code",
   "execution_count": 5,
   "id": "c4665fc7",
   "metadata": {
    "execution": {
     "iopub.execute_input": "2024-03-20T13:40:10.315147Z",
     "iopub.status.busy": "2024-03-20T13:40:10.314757Z",
     "iopub.status.idle": "2024-03-20T13:40:10.323109Z",
     "shell.execute_reply": "2024-03-20T13:40:10.321815Z"
    },
    "papermill": {
     "duration": 0.019255,
     "end_time": "2024-03-20T13:40:10.325804",
     "exception": false,
     "start_time": "2024-03-20T13:40:10.306549",
     "status": "completed"
    },
    "tags": []
   },
   "outputs": [
    {
     "data": {
      "text/plain": [
       "Index(['Country', 'League', 'Club', 'Player Names', 'Matches_Played',\n",
       "       'Substitution ', 'Mins', 'Goals', 'xG', 'xG Per Avg Match', 'Shots',\n",
       "       'OnTarget', 'Shots Per Avg Match', 'On Target Per Avg Match', 'Year'],\n",
       "      dtype='object')"
      ]
     },
     "execution_count": 5,
     "metadata": {},
     "output_type": "execute_result"
    }
   ],
   "source": [
    "#Menunjukkan kolom yang ada\n",
    "df.columns"
   ]
  },
  {
   "cell_type": "code",
   "execution_count": 6,
   "id": "e9979253",
   "metadata": {
    "execution": {
     "iopub.execute_input": "2024-03-20T13:40:10.342926Z",
     "iopub.status.busy": "2024-03-20T13:40:10.342044Z",
     "iopub.status.idle": "2024-03-20T13:40:10.350076Z",
     "shell.execute_reply": "2024-03-20T13:40:10.348901Z"
    },
    "papermill": {
     "duration": 0.019436,
     "end_time": "2024-03-20T13:40:10.352636",
     "exception": false,
     "start_time": "2024-03-20T13:40:10.333200",
     "status": "completed"
    },
    "tags": []
   },
   "outputs": [
    {
     "data": {
      "text/plain": [
       "\"df = df[['Country', 'League', 'Club', 'Player Names', 'Matches_Played','Substitution ', 'Mins'\\n          'Goals','xG', 'xG Per Avg Match', 'Shots','OnTarget', 'Shots Per Avg Match', 'On Target Per Avg Match',\\n         'Year']].copy()\""
      ]
     },
     "execution_count": 6,
     "metadata": {},
     "output_type": "execute_result"
    }
   ],
   "source": [
    "#Menghilangkan kolom yang dimau dengan axis = 1 agar program tau kalau ini adalah kolom dan bukan baris\n",
    "\"\"\"df = df[['Country', 'League', 'Club', 'Player Names', 'Matches_Played','Substitution ', 'Mins'\n",
    "          'Goals','xG', 'xG Per Avg Match', 'Shots','OnTarget', 'Shots Per Avg Match', 'On Target Per Avg Match',\n",
    "         'Year']].copy()\"\"\""
   ]
  },
  {
   "cell_type": "code",
   "execution_count": 7,
   "id": "c1f5867f",
   "metadata": {
    "execution": {
     "iopub.execute_input": "2024-03-20T13:40:10.369069Z",
     "iopub.status.busy": "2024-03-20T13:40:10.368291Z",
     "iopub.status.idle": "2024-03-20T13:40:10.380916Z",
     "shell.execute_reply": "2024-03-20T13:40:10.379994Z"
    },
    "papermill": {
     "duration": 0.023815,
     "end_time": "2024-03-20T13:40:10.383505",
     "exception": false,
     "start_time": "2024-03-20T13:40:10.359690",
     "status": "completed"
    },
    "tags": []
   },
   "outputs": [
    {
     "data": {
      "text/plain": [
       "Country                     0\n",
       "League                      0\n",
       "Club                       34\n",
       "Player Names                0\n",
       "Matches_Played              0\n",
       "Substitution                0\n",
       "Mins                        0\n",
       "Goals                       0\n",
       "xG                          0\n",
       "xG Per Avg Match            0\n",
       "Shots                       0\n",
       "OnTarget                    0\n",
       "Shots Per Avg Match         0\n",
       "On Target Per Avg Match     0\n",
       "Year                        0\n",
       "dtype: int64"
      ]
     },
     "execution_count": 7,
     "metadata": {},
     "output_type": "execute_result"
    }
   ],
   "source": [
    "#Melihat apakah masing-masing kolom memiliki isi dan bukan null lalu menjumlahkan data yang tidak null\n",
    "df.isna().sum()"
   ]
  },
  {
   "cell_type": "code",
   "execution_count": 8,
   "id": "83e0eb95",
   "metadata": {
    "execution": {
     "iopub.execute_input": "2024-03-20T13:40:10.400432Z",
     "iopub.status.busy": "2024-03-20T13:40:10.399958Z",
     "iopub.status.idle": "2024-03-20T13:40:10.425965Z",
     "shell.execute_reply": "2024-03-20T13:40:10.424811Z"
    },
    "papermill": {
     "duration": 0.037579,
     "end_time": "2024-03-20T13:40:10.428363",
     "exception": false,
     "start_time": "2024-03-20T13:40:10.390784",
     "status": "completed"
    },
    "tags": []
   },
   "outputs": [
    {
     "data": {
      "text/html": [
       "<div>\n",
       "<style scoped>\n",
       "    .dataframe tbody tr th:only-of-type {\n",
       "        vertical-align: middle;\n",
       "    }\n",
       "\n",
       "    .dataframe tbody tr th {\n",
       "        vertical-align: top;\n",
       "    }\n",
       "\n",
       "    .dataframe thead th {\n",
       "        text-align: right;\n",
       "    }\n",
       "</style>\n",
       "<table border=\"1\" class=\"dataframe\">\n",
       "  <thead>\n",
       "    <tr style=\"text-align: right;\">\n",
       "      <th></th>\n",
       "      <th>Country</th>\n",
       "      <th>League</th>\n",
       "      <th>Club</th>\n",
       "      <th>Player Names</th>\n",
       "      <th>Matches_Played</th>\n",
       "      <th>Substitution</th>\n",
       "      <th>Mins</th>\n",
       "      <th>Goals</th>\n",
       "      <th>xG</th>\n",
       "      <th>xG Per Avg Match</th>\n",
       "      <th>Shots</th>\n",
       "      <th>OnTarget</th>\n",
       "      <th>Shots Per Avg Match</th>\n",
       "      <th>On Target Per Avg Match</th>\n",
       "      <th>Year</th>\n",
       "    </tr>\n",
       "  </thead>\n",
       "  <tbody>\n",
       "  </tbody>\n",
       "</table>\n",
       "</div>"
      ],
      "text/plain": [
       "Empty DataFrame\n",
       "Columns: [Country, League, Club, Player Names, Matches_Played, Substitution , Mins, Goals, xG, xG Per Avg Match, Shots, OnTarget, Shots Per Avg Match, On Target Per Avg Match, Year]\n",
       "Index: []"
      ]
     },
     "execution_count": 8,
     "metadata": {},
     "output_type": "execute_result"
    }
   ],
   "source": [
    "#Mengecek apakah ada data yang terduplikat atau tercopy 2 kali\n",
    "df.loc[df.duplicated()]"
   ]
  },
  {
   "cell_type": "code",
   "execution_count": 9,
   "id": "48292c98",
   "metadata": {
    "execution": {
     "iopub.execute_input": "2024-03-20T13:40:10.445072Z",
     "iopub.status.busy": "2024-03-20T13:40:10.444370Z",
     "iopub.status.idle": "2024-03-20T13:40:10.472475Z",
     "shell.execute_reply": "2024-03-20T13:40:10.471266Z"
    },
    "papermill": {
     "duration": 0.039579,
     "end_time": "2024-03-20T13:40:10.475255",
     "exception": false,
     "start_time": "2024-03-20T13:40:10.435676",
     "status": "completed"
    },
    "tags": []
   },
   "outputs": [
    {
     "data": {
      "text/html": [
       "<div>\n",
       "<style scoped>\n",
       "    .dataframe tbody tr th:only-of-type {\n",
       "        vertical-align: middle;\n",
       "    }\n",
       "\n",
       "    .dataframe tbody tr th {\n",
       "        vertical-align: top;\n",
       "    }\n",
       "\n",
       "    .dataframe thead th {\n",
       "        text-align: right;\n",
       "    }\n",
       "</style>\n",
       "<table border=\"1\" class=\"dataframe\">\n",
       "  <thead>\n",
       "    <tr style=\"text-align: right;\">\n",
       "      <th></th>\n",
       "      <th>Country</th>\n",
       "      <th>League</th>\n",
       "      <th>Club</th>\n",
       "      <th>Player Names</th>\n",
       "      <th>Matches_Played</th>\n",
       "      <th>Substitution</th>\n",
       "      <th>Mins</th>\n",
       "      <th>Goals</th>\n",
       "      <th>xG</th>\n",
       "      <th>xG Per Avg Match</th>\n",
       "      <th>Shots</th>\n",
       "      <th>OnTarget</th>\n",
       "      <th>Shots Per Avg Match</th>\n",
       "      <th>On Target Per Avg Match</th>\n",
       "      <th>Year</th>\n",
       "    </tr>\n",
       "  </thead>\n",
       "  <tbody>\n",
       "    <tr>\n",
       "      <th>101</th>\n",
       "      <td>Spain</td>\n",
       "      <td>La Liga</td>\n",
       "      <td>(BAR)</td>\n",
       "      <td>Antoine Griezmann</td>\n",
       "      <td>30</td>\n",
       "      <td>2</td>\n",
       "      <td>2596</td>\n",
       "      <td>19</td>\n",
       "      <td>15.58</td>\n",
       "      <td>0.57</td>\n",
       "      <td>72</td>\n",
       "      <td>40</td>\n",
       "      <td>2.63</td>\n",
       "      <td>1.46</td>\n",
       "      <td>2017</td>\n",
       "    </tr>\n",
       "    <tr>\n",
       "      <th>102</th>\n",
       "      <td>Spain</td>\n",
       "      <td>La Liga</td>\n",
       "      <td>(CEL)</td>\n",
       "      <td>Iago Aspas</td>\n",
       "      <td>33</td>\n",
       "      <td>1</td>\n",
       "      <td>3053</td>\n",
       "      <td>22</td>\n",
       "      <td>19.92</td>\n",
       "      <td>0.62</td>\n",
       "      <td>94</td>\n",
       "      <td>43</td>\n",
       "      <td>2.92</td>\n",
       "      <td>1.34</td>\n",
       "      <td>2017</td>\n",
       "    </tr>\n",
       "    <tr>\n",
       "      <th>105</th>\n",
       "      <td>Spain</td>\n",
       "      <td>La Liga</td>\n",
       "      <td>(ATL)</td>\n",
       "      <td>Luis Suarez</td>\n",
       "      <td>32</td>\n",
       "      <td>1</td>\n",
       "      <td>3008</td>\n",
       "      <td>25</td>\n",
       "      <td>25.65</td>\n",
       "      <td>0.81</td>\n",
       "      <td>121</td>\n",
       "      <td>55</td>\n",
       "      <td>3.82</td>\n",
       "      <td>1.74</td>\n",
       "      <td>2017</td>\n",
       "    </tr>\n",
       "    <tr>\n",
       "      <th>107</th>\n",
       "      <td>Spain</td>\n",
       "      <td>La Liga</td>\n",
       "      <td>(BAR)</td>\n",
       "      <td>Lionel Messi</td>\n",
       "      <td>32</td>\n",
       "      <td>4</td>\n",
       "      <td>3123</td>\n",
       "      <td>33</td>\n",
       "      <td>32.54</td>\n",
       "      <td>0.99</td>\n",
       "      <td>197</td>\n",
       "      <td>95</td>\n",
       "      <td>5.99</td>\n",
       "      <td>2.89</td>\n",
       "      <td>2017</td>\n",
       "    </tr>\n",
       "    <tr>\n",
       "      <th>112</th>\n",
       "      <td>Spain</td>\n",
       "      <td>La Liga</td>\n",
       "      <td>(JUV)</td>\n",
       "      <td>Cristiano Ronaldo</td>\n",
       "      <td>27</td>\n",
       "      <td>0</td>\n",
       "      <td>2375</td>\n",
       "      <td>26</td>\n",
       "      <td>29.00</td>\n",
       "      <td>1.16</td>\n",
       "      <td>178</td>\n",
       "      <td>76</td>\n",
       "      <td>7.12</td>\n",
       "      <td>3.04</td>\n",
       "      <td>2017</td>\n",
       "    </tr>\n",
       "    <tr>\n",
       "      <th>...</th>\n",
       "      <td>...</td>\n",
       "      <td>...</td>\n",
       "      <td>...</td>\n",
       "      <td>...</td>\n",
       "      <td>...</td>\n",
       "      <td>...</td>\n",
       "      <td>...</td>\n",
       "      <td>...</td>\n",
       "      <td>...</td>\n",
       "      <td>...</td>\n",
       "      <td>...</td>\n",
       "      <td>...</td>\n",
       "      <td>...</td>\n",
       "      <td>...</td>\n",
       "      <td>...</td>\n",
       "    </tr>\n",
       "    <tr>\n",
       "      <th>647</th>\n",
       "      <td>Netherlands</td>\n",
       "      <td>Eredivisie</td>\n",
       "      <td>(FEY)</td>\n",
       "      <td>Steven Berghuis</td>\n",
       "      <td>24</td>\n",
       "      <td>0</td>\n",
       "      <td>2226</td>\n",
       "      <td>15</td>\n",
       "      <td>13.36</td>\n",
       "      <td>0.57</td>\n",
       "      <td>89</td>\n",
       "      <td>44</td>\n",
       "      <td>3.80</td>\n",
       "      <td>1.88</td>\n",
       "      <td>2020</td>\n",
       "    </tr>\n",
       "    <tr>\n",
       "      <th>651</th>\n",
       "      <td>Netherlands</td>\n",
       "      <td>Eredivisie</td>\n",
       "      <td>(WIL)</td>\n",
       "      <td>Vangelis Pavlidis</td>\n",
       "      <td>25</td>\n",
       "      <td>0</td>\n",
       "      <td>2265</td>\n",
       "      <td>11</td>\n",
       "      <td>12.64</td>\n",
       "      <td>0.53</td>\n",
       "      <td>70</td>\n",
       "      <td>31</td>\n",
       "      <td>2.94</td>\n",
       "      <td>1.30</td>\n",
       "      <td>2020</td>\n",
       "    </tr>\n",
       "    <tr>\n",
       "      <th>652</th>\n",
       "      <td>Netherlands</td>\n",
       "      <td>Eredivisie</td>\n",
       "      <td>(EMM)</td>\n",
       "      <td>Michael de Leeuw</td>\n",
       "      <td>26</td>\n",
       "      <td>0</td>\n",
       "      <td>2383</td>\n",
       "      <td>9</td>\n",
       "      <td>8.28</td>\n",
       "      <td>0.33</td>\n",
       "      <td>51</td>\n",
       "      <td>23</td>\n",
       "      <td>2.03</td>\n",
       "      <td>0.92</td>\n",
       "      <td>2020</td>\n",
       "    </tr>\n",
       "    <tr>\n",
       "      <th>653</th>\n",
       "      <td>Netherlands</td>\n",
       "      <td>Eredivisie</td>\n",
       "      <td>(PSV)</td>\n",
       "      <td>Donyell Malen</td>\n",
       "      <td>14</td>\n",
       "      <td>0</td>\n",
       "      <td>1245</td>\n",
       "      <td>11</td>\n",
       "      <td>8.91</td>\n",
       "      <td>0.68</td>\n",
       "      <td>59</td>\n",
       "      <td>32</td>\n",
       "      <td>4.50</td>\n",
       "      <td>2.44</td>\n",
       "      <td>2020</td>\n",
       "    </tr>\n",
       "    <tr>\n",
       "      <th>656</th>\n",
       "      <td>Netherlands</td>\n",
       "      <td>Eredivisie</td>\n",
       "      <td>(AJA)</td>\n",
       "      <td>Quincy Promes</td>\n",
       "      <td>18</td>\n",
       "      <td>2</td>\n",
       "      <td>1573</td>\n",
       "      <td>12</td>\n",
       "      <td>9.77</td>\n",
       "      <td>0.59</td>\n",
       "      <td>56</td>\n",
       "      <td>30</td>\n",
       "      <td>3.38</td>\n",
       "      <td>1.81</td>\n",
       "      <td>2020</td>\n",
       "    </tr>\n",
       "  </tbody>\n",
       "</table>\n",
       "<p>216 rows × 15 columns</p>\n",
       "</div>"
      ],
      "text/plain": [
       "          Country      League   Club       Player Names  Matches_Played  \\\n",
       "101         Spain     La Liga  (BAR)  Antoine Griezmann              30   \n",
       "102         Spain     La Liga  (CEL)         Iago Aspas              33   \n",
       "105         Spain     La Liga  (ATL)        Luis Suarez              32   \n",
       "107         Spain     La Liga  (BAR)       Lionel Messi              32   \n",
       "112         Spain     La Liga  (JUV)  Cristiano Ronaldo              27   \n",
       "..            ...         ...    ...                ...             ...   \n",
       "647   Netherlands  Eredivisie  (FEY)    Steven Berghuis              24   \n",
       "651   Netherlands  Eredivisie  (WIL)  Vangelis Pavlidis              25   \n",
       "652   Netherlands  Eredivisie  (EMM)   Michael de Leeuw              26   \n",
       "653   Netherlands  Eredivisie  (PSV)      Donyell Malen              14   \n",
       "656   Netherlands  Eredivisie  (AJA)      Quincy Promes              18   \n",
       "\n",
       "     Substitution   Mins  Goals     xG  xG Per Avg Match  Shots  OnTarget  \\\n",
       "101              2  2596     19  15.58              0.57     72        40   \n",
       "102              1  3053     22  19.92              0.62     94        43   \n",
       "105              1  3008     25  25.65              0.81    121        55   \n",
       "107              4  3123     33  32.54              0.99    197        95   \n",
       "112              0  2375     26  29.00              1.16    178        76   \n",
       "..             ...   ...    ...    ...               ...    ...       ...   \n",
       "647              0  2226     15  13.36              0.57     89        44   \n",
       "651              0  2265     11  12.64              0.53     70        31   \n",
       "652              0  2383      9   8.28              0.33     51        23   \n",
       "653              0  1245     11   8.91              0.68     59        32   \n",
       "656              2  1573     12   9.77              0.59     56        30   \n",
       "\n",
       "     Shots Per Avg Match  On Target Per Avg Match  Year  \n",
       "101                 2.63                     1.46  2017  \n",
       "102                 2.92                     1.34  2017  \n",
       "105                 3.82                     1.74  2017  \n",
       "107                 5.99                     2.89  2017  \n",
       "112                 7.12                     3.04  2017  \n",
       "..                   ...                      ...   ...  \n",
       "647                 3.80                     1.88  2020  \n",
       "651                 2.94                     1.30  2020  \n",
       "652                 2.03                     0.92  2020  \n",
       "653                 4.50                     2.44  2020  \n",
       "656                 3.38                     1.81  2020  \n",
       "\n",
       "[216 rows x 15 columns]"
      ]
     },
     "execution_count": 9,
     "metadata": {},
     "output_type": "execute_result"
    }
   ],
   "source": [
    "#apakah ada yang terduplikat di kolom subset player name\n",
    "df.loc[df.duplicated(subset = ['Player Names'])]"
   ]
  },
  {
   "cell_type": "code",
   "execution_count": 10,
   "id": "6e9c0e16",
   "metadata": {
    "execution": {
     "iopub.execute_input": "2024-03-20T13:40:10.493091Z",
     "iopub.status.busy": "2024-03-20T13:40:10.492707Z",
     "iopub.status.idle": "2024-03-20T13:40:10.500704Z",
     "shell.execute_reply": "2024-03-20T13:40:10.499680Z"
    },
    "papermill": {
     "duration": 0.019833,
     "end_time": "2024-03-20T13:40:10.503337",
     "exception": false,
     "start_time": "2024-03-20T13:40:10.483504",
     "status": "completed"
    },
    "tags": []
   },
   "outputs": [],
   "source": [
    "df = df.loc[~df.duplicated(subset = ['Player Names', 'League','Club'])].copy()"
   ]
  },
  {
   "cell_type": "code",
   "execution_count": 11,
   "id": "9d982f8a",
   "metadata": {
    "execution": {
     "iopub.execute_input": "2024-03-20T13:40:10.520949Z",
     "iopub.status.busy": "2024-03-20T13:40:10.520542Z",
     "iopub.status.idle": "2024-03-20T13:40:10.527206Z",
     "shell.execute_reply": "2024-03-20T13:40:10.525997Z"
    },
    "papermill": {
     "duration": 0.018266,
     "end_time": "2024-03-20T13:40:10.529542",
     "exception": false,
     "start_time": "2024-03-20T13:40:10.511276",
     "status": "completed"
    },
    "tags": []
   },
   "outputs": [
    {
     "data": {
      "text/plain": [
       "(475, 15)"
      ]
     },
     "execution_count": 11,
     "metadata": {},
     "output_type": "execute_result"
    }
   ],
   "source": [
    "df.shape"
   ]
  },
  {
   "cell_type": "code",
   "execution_count": 12,
   "id": "331e2c5b",
   "metadata": {
    "execution": {
     "iopub.execute_input": "2024-03-20T13:40:10.547260Z",
     "iopub.status.busy": "2024-03-20T13:40:10.546862Z",
     "iopub.status.idle": "2024-03-20T13:40:11.012626Z",
     "shell.execute_reply": "2024-03-20T13:40:11.011013Z"
    },
    "papermill": {
     "duration": 0.478346,
     "end_time": "2024-03-20T13:40:11.015980",
     "exception": false,
     "start_time": "2024-03-20T13:40:10.537634",
     "status": "completed"
    },
    "tags": []
   },
   "outputs": [
    {
     "data": {
      "text/plain": [
       "Text(0, 0.5, 'Jumlah Pemain')"
      ]
     },
     "execution_count": 12,
     "metadata": {},
     "output_type": "execute_result"
    },
    {
     "data": {
      "image/png": "[encoded data removed]",
      "text/plain": [
       "<Figure size 640x480 with 1 Axes>"
      ]
     },
     "metadata": {},
     "output_type": "display_data"
    }
   ],
   "source": [
    "ax = df['Goals'].value_counts() \\\n",
    ".head(7)\\\n",
    ".plot(kind = 'bar',title = 'Jumlah Pemain Top skor yang jumlah golnya paling sering ada')\n",
    "ax.set_xlabel('Jumlah Gol')\n",
    "ax.set_ylabel('Jumlah Pemain')"
   ]
  },
  {
   "cell_type": "code",
   "execution_count": 13,
   "id": "297e80b3",
   "metadata": {
    "execution": {
     "iopub.execute_input": "2024-03-20T13:40:11.035336Z",
     "iopub.status.busy": "2024-03-20T13:40:11.034956Z",
     "iopub.status.idle": "2024-03-20T13:40:11.404804Z",
     "shell.execute_reply": "2024-03-20T13:40:11.403520Z"
    },
    "papermill": {
     "duration": 0.382821,
     "end_time": "2024-03-20T13:40:11.407651",
     "exception": false,
     "start_time": "2024-03-20T13:40:11.024830",
     "status": "completed"
    },
    "tags": []
   },
   "outputs": [
    {
     "data": {
      "text/plain": [
       "Text(0.5, 0, 'Matched Played')"
      ]
     },
     "execution_count": 13,
     "metadata": {},
     "output_type": "execute_result"
    },
    {
     "data": {
      "image/png": "[encoded data removed]",
      "text/plain": [
       "<Figure size 640x480 with 1 Axes>"
      ]
     },
     "metadata": {},
     "output_type": "display_data"
    }
   ],
   "source": [
    "ax = df['Matches_Played'].plot(kind = 'hist',bins = 25, \n",
    "                               title = 'Permainan yang dimainkan oleh para Top Skorer')\n",
    "ax.set_xlabel('Matched Played')"
   ]
  },
  {
   "cell_type": "code",
   "execution_count": 14,
   "id": "88d4728a",
   "metadata": {
    "execution": {
     "iopub.execute_input": "2024-03-20T13:40:11.428823Z",
     "iopub.status.busy": "2024-03-20T13:40:11.428373Z",
     "iopub.status.idle": "2024-03-20T13:40:11.805709Z",
     "shell.execute_reply": "2024-03-20T13:40:11.804397Z"
    },
    "papermill": {
     "duration": 0.3914,
     "end_time": "2024-03-20T13:40:11.808524",
     "exception": false,
     "start_time": "2024-03-20T13:40:11.417124",
     "status": "completed"
    },
    "tags": []
   },
   "outputs": [
    {
     "data": {
      "text/plain": [
       "Text(0.5, 0, 'Matched Played')"
      ]
     },
     "execution_count": 14,
     "metadata": {},
     "output_type": "execute_result"
    },
    {
     "data": {
      "image/png": "[encoded data removed]",
      "text/plain": [
       "<Figure size 640x480 with 1 Axes>"
      ]
     },
     "metadata": {},
     "output_type": "display_data"
    }
   ],
   "source": [
    "ax = df['Matches_Played'].plot(kind = 'kde', \n",
    "                               title = 'Permainan yang dimainkan oleh para Top Skorer')\n",
    "ax.set_xlabel('Matched Played')"
   ]
  },
  {
   "cell_type": "code",
   "execution_count": 15,
   "id": "36aca5c5",
   "metadata": {
    "execution": {
     "iopub.execute_input": "2024-03-20T13:40:11.831941Z",
     "iopub.status.busy": "2024-03-20T13:40:11.830066Z",
     "iopub.status.idle": "2024-03-20T13:40:12.157037Z",
     "shell.execute_reply": "2024-03-20T13:40:12.155687Z"
    },
    "papermill": {
     "duration": 0.341208,
     "end_time": "2024-03-20T13:40:12.159696",
     "exception": false,
     "start_time": "2024-03-20T13:40:11.818488",
     "status": "completed"
    },
    "tags": []
   },
   "outputs": [
    {
     "data": {
      "text/plain": [
       "<function matplotlib.pyplot.show(close=None, block=None)>"
      ]
     },
     "execution_count": 15,
     "metadata": {},
     "output_type": "execute_result"
    },
    {
     "data": {
      "image/png": "[encoded data removed]",
      "text/plain": [
       "<Figure size 640x480 with 1 Axes>"
      ]
     },
     "metadata": {},
     "output_type": "display_data"
    }
   ],
   "source": [
    "df.plot(kind = 'scatter',x = 'Shots',\n",
    "       y='Goals')\n",
    "plt.show"
   ]
  },
  {
   "cell_type": "code",
   "execution_count": 16,
   "id": "83ffb3a4",
   "metadata": {
    "execution": {
     "iopub.execute_input": "2024-03-20T13:40:12.184224Z",
     "iopub.status.busy": "2024-03-20T13:40:12.183275Z",
     "iopub.status.idle": "2024-03-20T13:40:12.211896Z",
     "shell.execute_reply": "2024-03-20T13:40:12.210687Z"
    },
    "papermill": {
     "duration": 0.044804,
     "end_time": "2024-03-20T13:40:12.215039",
     "exception": false,
     "start_time": "2024-03-20T13:40:12.170235",
     "status": "completed"
    },
    "tags": []
   },
   "outputs": [
    {
     "data": {
      "text/html": [
       "<div>\n",
       "<style scoped>\n",
       "    .dataframe tbody tr th:only-of-type {\n",
       "        vertical-align: middle;\n",
       "    }\n",
       "\n",
       "    .dataframe tbody tr th {\n",
       "        vertical-align: top;\n",
       "    }\n",
       "\n",
       "    .dataframe thead th {\n",
       "        text-align: right;\n",
       "    }\n",
       "</style>\n",
       "<table border=\"1\" class=\"dataframe\">\n",
       "  <thead>\n",
       "    <tr style=\"text-align: right;\">\n",
       "      <th></th>\n",
       "      <th>mean</th>\n",
       "      <th>count</th>\n",
       "    </tr>\n",
       "    <tr>\n",
       "      <th>Shots</th>\n",
       "      <th></th>\n",
       "      <th></th>\n",
       "    </tr>\n",
       "  </thead>\n",
       "  <tbody>\n",
       "    <tr>\n",
       "      <th>32</th>\n",
       "      <td>10.000000</td>\n",
       "      <td>2</td>\n",
       "    </tr>\n",
       "    <tr>\n",
       "      <th>44</th>\n",
       "      <td>11.000000</td>\n",
       "      <td>23</td>\n",
       "    </tr>\n",
       "    <tr>\n",
       "      <th>64</th>\n",
       "      <td>11.000000</td>\n",
       "      <td>42</td>\n",
       "    </tr>\n",
       "    <tr>\n",
       "      <th>69</th>\n",
       "      <td>11.533333</td>\n",
       "      <td>30</td>\n",
       "    </tr>\n",
       "    <tr>\n",
       "      <th>76</th>\n",
       "      <td>12.000000</td>\n",
       "      <td>3</td>\n",
       "    </tr>\n",
       "    <tr>\n",
       "      <th>70</th>\n",
       "      <td>12.000000</td>\n",
       "      <td>2</td>\n",
       "    </tr>\n",
       "    <tr>\n",
       "      <th>43</th>\n",
       "      <td>12.000000</td>\n",
       "      <td>5</td>\n",
       "    </tr>\n",
       "    <tr>\n",
       "      <th>50</th>\n",
       "      <td>12.066667</td>\n",
       "      <td>45</td>\n",
       "    </tr>\n",
       "    <tr>\n",
       "      <th>99</th>\n",
       "      <td>12.083333</td>\n",
       "      <td>12</td>\n",
       "    </tr>\n",
       "    <tr>\n",
       "      <th>82</th>\n",
       "      <td>13.000000</td>\n",
       "      <td>38</td>\n",
       "    </tr>\n",
       "    <tr>\n",
       "      <th>105</th>\n",
       "      <td>13.000000</td>\n",
       "      <td>15</td>\n",
       "    </tr>\n",
       "    <tr>\n",
       "      <th>56</th>\n",
       "      <td>13.000000</td>\n",
       "      <td>1</td>\n",
       "    </tr>\n",
       "    <tr>\n",
       "      <th>117</th>\n",
       "      <td>13.642857</td>\n",
       "      <td>14</td>\n",
       "    </tr>\n",
       "    <tr>\n",
       "      <th>93</th>\n",
       "      <td>14.000000</td>\n",
       "      <td>48</td>\n",
       "    </tr>\n",
       "    <tr>\n",
       "      <th>86</th>\n",
       "      <td>14.000000</td>\n",
       "      <td>1</td>\n",
       "    </tr>\n",
       "    <tr>\n",
       "      <th>55</th>\n",
       "      <td>15.000000</td>\n",
       "      <td>30</td>\n",
       "    </tr>\n",
       "    <tr>\n",
       "      <th>80</th>\n",
       "      <td>15.000000</td>\n",
       "      <td>1</td>\n",
       "    </tr>\n",
       "    <tr>\n",
       "      <th>90</th>\n",
       "      <td>15.000000</td>\n",
       "      <td>2</td>\n",
       "    </tr>\n",
       "    <tr>\n",
       "      <th>85</th>\n",
       "      <td>16.000000</td>\n",
       "      <td>42</td>\n",
       "    </tr>\n",
       "    <tr>\n",
       "      <th>147</th>\n",
       "      <td>18.000000</td>\n",
       "      <td>1</td>\n",
       "    </tr>\n",
       "    <tr>\n",
       "      <th>78</th>\n",
       "      <td>19.000000</td>\n",
       "      <td>29</td>\n",
       "    </tr>\n",
       "    <tr>\n",
       "      <th>136</th>\n",
       "      <td>22.000000</td>\n",
       "      <td>6</td>\n",
       "    </tr>\n",
       "    <tr>\n",
       "      <th>109</th>\n",
       "      <td>24.000000</td>\n",
       "      <td>2</td>\n",
       "    </tr>\n",
       "    <tr>\n",
       "      <th>134</th>\n",
       "      <td>24.000000</td>\n",
       "      <td>1</td>\n",
       "    </tr>\n",
       "    <tr>\n",
       "      <th>162</th>\n",
       "      <td>25.000000</td>\n",
       "      <td>21</td>\n",
       "    </tr>\n",
       "    <tr>\n",
       "      <th>120</th>\n",
       "      <td>28.000000</td>\n",
       "      <td>8</td>\n",
       "    </tr>\n",
       "    <tr>\n",
       "      <th>148</th>\n",
       "      <td>28.000000</td>\n",
       "      <td>3</td>\n",
       "    </tr>\n",
       "    <tr>\n",
       "      <th>179</th>\n",
       "      <td>37.000000</td>\n",
       "      <td>48</td>\n",
       "    </tr>\n",
       "  </tbody>\n",
       "</table>\n",
       "</div>"
      ],
      "text/plain": [
       "            mean  count\n",
       "Shots                  \n",
       "32     10.000000      2\n",
       "44     11.000000     23\n",
       "64     11.000000     42\n",
       "69     11.533333     30\n",
       "76     12.000000      3\n",
       "70     12.000000      2\n",
       "43     12.000000      5\n",
       "50     12.066667     45\n",
       "99     12.083333     12\n",
       "82     13.000000     38\n",
       "105    13.000000     15\n",
       "56     13.000000      1\n",
       "117    13.642857     14\n",
       "93     14.000000     48\n",
       "86     14.000000      1\n",
       "55     15.000000     30\n",
       "80     15.000000      1\n",
       "90     15.000000      2\n",
       "85     16.000000     42\n",
       "147    18.000000      1\n",
       "78     19.000000     29\n",
       "136    22.000000      6\n",
       "109    24.000000      2\n",
       "134    24.000000      1\n",
       "162    25.000000     21\n",
       "120    28.000000      8\n",
       "148    28.000000      3\n",
       "179    37.000000     48"
      ]
     },
     "execution_count": 16,
     "metadata": {},
     "output_type": "execute_result"
    }
   ],
   "source": [
    "df.query('Goals')\\\n",
    ".groupby('Shots')['Goals']\\\n",
    ".agg(['mean','count'])\\\n",
    ".sort_values('mean')\n"
   ]
  }
 ],
 "metadata": {
  "kaggle": {
   "accelerator": "none",
   "dataSources": [
    {
     "datasetId": 1015903,
     "sourceId": 1713018,
     "sourceType": "datasetVersion"
    }
   ],
   "dockerImageVersionId": 30664,
   "isGpuEnabled": false,
   "isInternetEnabled": false,
   "language": "python",
   "sourceType": "notebook"
  },
  "kernelspec": {
   "display_name": "Python 3",
   "language": "python",
   "name": "python3"
  },
  "language_info": {
   "codemirror_mode": {
    "name": "ipython",
    "version": 3
   },
   "file_extension": ".py",
   "mimetype": "text/x-python",
   "name": "python",
   "nbconvert_exporter": "python",
   "pygments_lexer": "ipython3",
   "version": "3.10.13"
  },
  "papermill": {
   "default_parameters": {},
   "duration": 9.019294,
   "end_time": "2024-03-20T13:40:12.850037",
   "environment_variables": {},
   "exception": null,
   "input_path": "__notebook__.ipynb",
   "output_path": "__notebook__.ipynb",
   "parameters": {},
   "start_time": "2024-03-20T13:40:03.830743",
   "version": "2.5.0"
  }
 },
 "nbformat": 4,
 "nbformat_minor": 5
}
